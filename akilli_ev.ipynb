# Controllable arayüzü
class Controllable:
    def turn_on(self):
        raise NotImplementedError("turn_on metodu tanımlanmalı")

    def turn_off(self):
        raise NotImplementedError("turn_off metodu tanımlanmalı")

    def is_on(self):
        raise NotImplementedError("is_on metodu tanımlanmalı")

# Appliance temel sınıfı
class Appliance(Controllable):
    def __init__(self):
        self._status = False

    def turn_on(self):
        self._status = True
        print(f"{self.__class__.__name__} açıldı.")

    def turn_off(self):
        self._status = False
        print(f"{self.__class__.__name__} kapatıldı.")

    def is_on(self):
        return self._status
Light sınıfı
class Light(Appliance):
    def dim(self, level):
        if self._status:
            print(f"Işık seviyesi {level}% olarak ayarlandı.")
        else:
            print("Işık kapalı, önce açın.")
# Thermostat sınıfı
class Thermostat(Appliance):
    def __init__(self):
        super().__init__()
        self.temperature = 22  # Varsayılan sıcaklık

    def set_temperature(self, temp):
        if self._status:
            self.temperature = temp
            print(f"Sıcaklık {temp}°C olarak ayarlandı.")
        else:
            print("Termostat kapalı, önce açın.")
ecuritySystem sınıfı
class SecuritySystem(Appliance):
    def __init__(self):
        super().__init__()
        self.alarm_status = False

    def activate_alarm(self):
        if self._status:
            self.alarm_status = True
            print("Alarm aktif edildi.")
        else:
            print("Güvenlik sistemi kapalı, önce açın.")

    def deactivate_alarm(self):
        self.alarm_status = False
        print("Alarm devre dışı bırakıldı.")
# Konsol uygulaması
if __name__ == "__main__":
    light = Light()
    thermostat = Thermostat()
    security = SecuritySystem()

    light.turn_on()
    light.dim(50)

    thermostat.turn_on()
    thermostat.set_temperature(25)

    security.turn_on()
    security.activate_alarm()

    print(f"Işık durumu: {'Açık' if light.is_on() else 'Kapalı'}")
    print(f"Termostat sıcaklık: {thermostat.temperature}°C")
    print(f"Alarm durumu: {'Aktif' if security.alarm_status else 'Kapalı'}")
# Konsol uygulaması
if __name__ == "__main__":
    light = Light()
    thermostat = Thermostat()
    security = SecuritySystem()

    light.turn_on()
    light.dim(50)

    thermostat.turn_on()
    thermostat.set_temperature(25)

    security.turn_on()
    security.activate_alarm()

    print(f"Işık durumu: {'Açık' if light.is_on() else 'Kapalı'}")
    print(f"Termostat sıcaklık: {thermostat.temperature}°C")
    print(f"Alarm durumu: {'Aktif' if security.alarm_status else 'Kapalı'}")

